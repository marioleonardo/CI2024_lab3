{
 "cells": [
  {
   "cell_type": "markdown",
   "metadata": {
    "vscode": {
     "languageId": "plaintext"
    }
   },
   "source": [
    "Copyright **`(c)`** 2024 Giovanni Squillero `<giovanni.squillero@polito.it>`  \n",
    "[`https://github.com/squillero/computational-intelligence`](https://github.com/squillero/computational-intelligence)  \n",
    "Free under certain conditions — see the [`license`](https://github.com/squillero/computational-intelligence/blob/master/LICENSE.md) for details.  "
   ]
  },
  {
   "cell_type": "code",
   "execution_count": 14,
   "metadata": {},
   "outputs": [
    {
     "name": "stderr",
     "output_type": "stream",
     "text": [
      "Randomizing: 100%|██████████| 100000/100000 [00:00<00:00, 107743.68it/s]\n"
     ]
    },
    {
     "name": "stdout",
     "output_type": "stream",
     "text": [
      "Solving...\n",
      "Current depth: 184, queue size: 2481, current min distance: 20\n",
      "Current depth: 258, queue size: 4996, current min distance: 8\n",
      "Current depth: 279, queue size: 7488, current min distance: 8\n",
      "Current depth: 297, queue size: 9965, current min distance: 8\n",
      "Current depth: 262, queue size: 12189, current min distance: 8\n",
      "Current depth: 293, queue size: 14590, current min distance: 4\n",
      "Solution found in 312 moves.\n",
      "[[ 1  2  3  4  5]\n",
      " [ 6  7  8  9 10]\n",
      " [11 12 13 14 15]\n",
      " [16 17 18 19 20]\n",
      " [21 22 23 24  0]]\n",
      "[Action(pos1=(2, 0), pos2=(1, 0)), Action(pos1=(1, 0), pos2=(1, 1)), Action(pos1=(1, 1), pos2=(0, 1)), Action(pos1=(0, 1), pos2=(0, 0)), Action(pos1=(0, 0), pos2=(1, 0)), Action(pos1=(1, 0), pos2=(2, 0)), Action(pos1=(2, 0), pos2=(2, 1)), Action(pos1=(2, 1), pos2=(2, 2)), Action(pos1=(2, 2), pos2=(1, 2)), Action(pos1=(1, 2), pos2=(1, 1)), Action(pos1=(1, 1), pos2=(2, 1)), Action(pos1=(2, 1), pos2=(3, 1)), Action(pos1=(3, 1), pos2=(4, 1)), Action(pos1=(4, 1), pos2=(4, 0)), Action(pos1=(4, 0), pos2=(3, 0)), Action(pos1=(3, 0), pos2=(2, 0)), Action(pos1=(2, 0), pos2=(1, 0)), Action(pos1=(1, 0), pos2=(1, 1)), Action(pos1=(1, 1), pos2=(2, 1)), Action(pos1=(2, 1), pos2=(3, 1)), Action(pos1=(3, 1), pos2=(3, 2)), Action(pos1=(3, 2), pos2=(2, 2)), Action(pos1=(2, 2), pos2=(1, 2)), Action(pos1=(1, 2), pos2=(1, 1)), Action(pos1=(1, 1), pos2=(2, 1)), Action(pos1=(2, 1), pos2=(3, 1)), Action(pos1=(3, 1), pos2=(3, 2)), Action(pos1=(3, 2), pos2=(2, 2)), Action(pos1=(2, 2), pos2=(2, 3)), Action(pos1=(2, 3), pos2=(1, 3)), Action(pos1=(1, 3), pos2=(0, 3)), Action(pos1=(0, 3), pos2=(0, 2)), Action(pos1=(0, 2), pos2=(0, 1)), Action(pos1=(0, 1), pos2=(1, 1)), Action(pos1=(1, 1), pos2=(2, 1)), Action(pos1=(2, 1), pos2=(2, 2)), Action(pos1=(2, 2), pos2=(2, 3)), Action(pos1=(2, 3), pos2=(3, 3)), Action(pos1=(3, 3), pos2=(3, 4)), Action(pos1=(3, 4), pos2=(2, 4)), Action(pos1=(2, 4), pos2=(1, 4)), Action(pos1=(1, 4), pos2=(1, 3)), Action(pos1=(1, 3), pos2=(2, 3)), Action(pos1=(2, 3), pos2=(2, 4)), Action(pos1=(2, 4), pos2=(1, 4)), Action(pos1=(1, 4), pos2=(0, 4)), Action(pos1=(0, 4), pos2=(0, 3)), Action(pos1=(0, 3), pos2=(1, 3)), Action(pos1=(1, 3), pos2=(2, 3)), Action(pos1=(2, 3), pos2=(3, 3)), Action(pos1=(3, 3), pos2=(3, 4)), Action(pos1=(3, 4), pos2=(2, 4)), Action(pos1=(2, 4), pos2=(1, 4)), Action(pos1=(1, 4), pos2=(1, 3)), Action(pos1=(1, 3), pos2=(2, 3)), Action(pos1=(2, 3), pos2=(3, 3)), Action(pos1=(3, 3), pos2=(4, 3)), Action(pos1=(4, 3), pos2=(4, 2)), Action(pos1=(4, 2), pos2=(3, 2)), Action(pos1=(3, 2), pos2=(3, 3)), Action(pos1=(3, 3), pos2=(2, 3)), Action(pos1=(2, 3), pos2=(2, 2)), Action(pos1=(2, 2), pos2=(3, 2)), Action(pos1=(3, 2), pos2=(3, 3)), Action(pos1=(3, 3), pos2=(4, 3)), Action(pos1=(4, 3), pos2=(4, 2)), Action(pos1=(4, 2), pos2=(4, 1)), Action(pos1=(4, 1), pos2=(3, 1)), Action(pos1=(3, 1), pos2=(3, 2)), Action(pos1=(3, 2), pos2=(3, 3)), Action(pos1=(3, 3), pos2=(2, 3)), Action(pos1=(2, 3), pos2=(2, 4)), Action(pos1=(2, 4), pos2=(3, 4)), Action(pos1=(3, 4), pos2=(4, 4)), Action(pos1=(4, 4), pos2=(4, 3)), Action(pos1=(4, 3), pos2=(4, 2)), Action(pos1=(4, 2), pos2=(3, 2)), Action(pos1=(3, 2), pos2=(3, 3)), Action(pos1=(3, 3), pos2=(2, 3)), Action(pos1=(2, 3), pos2=(2, 2)), Action(pos1=(2, 2), pos2=(3, 2)), Action(pos1=(3, 2), pos2=(4, 2)), Action(pos1=(4, 2), pos2=(4, 1)), Action(pos1=(4, 1), pos2=(3, 1)), Action(pos1=(3, 1), pos2=(2, 1)), Action(pos1=(2, 1), pos2=(2, 2)), Action(pos1=(2, 2), pos2=(2, 3)), Action(pos1=(2, 3), pos2=(2, 4)), Action(pos1=(2, 4), pos2=(3, 4)), Action(pos1=(3, 4), pos2=(3, 3)), Action(pos1=(3, 3), pos2=(2, 3)), Action(pos1=(2, 3), pos2=(1, 3)), Action(pos1=(1, 3), pos2=(1, 4)), Action(pos1=(1, 4), pos2=(2, 4)), Action(pos1=(2, 4), pos2=(3, 4)), Action(pos1=(3, 4), pos2=(3, 3)), Action(pos1=(3, 3), pos2=(3, 2)), Action(pos1=(3, 2), pos2=(3, 1)), Action(pos1=(3, 1), pos2=(3, 0)), Action(pos1=(3, 0), pos2=(2, 0)), Action(pos1=(2, 0), pos2=(2, 1)), Action(pos1=(2, 1), pos2=(3, 1)), Action(pos1=(3, 1), pos2=(3, 2)), Action(pos1=(3, 2), pos2=(2, 2)), Action(pos1=(2, 2), pos2=(2, 1)), Action(pos1=(2, 1), pos2=(1, 1)), Action(pos1=(1, 1), pos2=(1, 2)), Action(pos1=(1, 2), pos2=(1, 3)), Action(pos1=(1, 3), pos2=(2, 3)), Action(pos1=(2, 3), pos2=(2, 2)), Action(pos1=(2, 2), pos2=(2, 1)), Action(pos1=(2, 1), pos2=(3, 1)), Action(pos1=(3, 1), pos2=(4, 1)), Action(pos1=(4, 1), pos2=(4, 2)), Action(pos1=(4, 2), pos2=(4, 3)), Action(pos1=(4, 3), pos2=(4, 4)), Action(pos1=(4, 4), pos2=(3, 4)), Action(pos1=(3, 4), pos2=(2, 4)), Action(pos1=(2, 4), pos2=(2, 3)), Action(pos1=(2, 3), pos2=(2, 2)), Action(pos1=(2, 2), pos2=(3, 2)), Action(pos1=(3, 2), pos2=(3, 3)), Action(pos1=(3, 3), pos2=(3, 4)), Action(pos1=(3, 4), pos2=(4, 4)), Action(pos1=(4, 4), pos2=(4, 3)), Action(pos1=(4, 3), pos2=(4, 2)), Action(pos1=(4, 2), pos2=(4, 1)), Action(pos1=(4, 1), pos2=(3, 1)), Action(pos1=(3, 1), pos2=(3, 2)), Action(pos1=(3, 2), pos2=(3, 3)), Action(pos1=(3, 3), pos2=(4, 3)), Action(pos1=(4, 3), pos2=(4, 2)), Action(pos1=(4, 2), pos2=(3, 2)), Action(pos1=(3, 2), pos2=(3, 1)), Action(pos1=(3, 1), pos2=(4, 1)), Action(pos1=(4, 1), pos2=(4, 2)), Action(pos1=(4, 2), pos2=(3, 2)), Action(pos1=(3, 2), pos2=(3, 3)), Action(pos1=(3, 3), pos2=(4, 3)), Action(pos1=(4, 3), pos2=(4, 4)), Action(pos1=(4, 4), pos2=(3, 4)), Action(pos1=(3, 4), pos2=(3, 3)), Action(pos1=(3, 3), pos2=(3, 2)), Action(pos1=(3, 2), pos2=(4, 2)), Action(pos1=(4, 2), pos2=(4, 3)), Action(pos1=(4, 3), pos2=(3, 3)), Action(pos1=(3, 3), pos2=(3, 4)), Action(pos1=(3, 4), pos2=(2, 4)), Action(pos1=(2, 4), pos2=(2, 3)), Action(pos1=(2, 3), pos2=(1, 3)), Action(pos1=(1, 3), pos2=(0, 3)), Action(pos1=(0, 3), pos2=(0, 2)), Action(pos1=(0, 2), pos2=(0, 1)), Action(pos1=(0, 1), pos2=(1, 1)), Action(pos1=(1, 1), pos2=(1, 2)), Action(pos1=(1, 2), pos2=(1, 3)), Action(pos1=(1, 3), pos2=(0, 3)), Action(pos1=(0, 3), pos2=(0, 2)), Action(pos1=(0, 2), pos2=(1, 2)), Action(pos1=(1, 2), pos2=(1, 3)), Action(pos1=(1, 3), pos2=(2, 3)), Action(pos1=(2, 3), pos2=(2, 4)), Action(pos1=(2, 4), pos2=(3, 4)), Action(pos1=(3, 4), pos2=(4, 4)), Action(pos1=(4, 4), pos2=(4, 3)), Action(pos1=(4, 3), pos2=(3, 3)), Action(pos1=(3, 3), pos2=(2, 3)), Action(pos1=(2, 3), pos2=(2, 4)), Action(pos1=(2, 4), pos2=(3, 4)), Action(pos1=(3, 4), pos2=(3, 3)), Action(pos1=(3, 3), pos2=(4, 3)), Action(pos1=(4, 3), pos2=(4, 4)), Action(pos1=(4, 4), pos2=(3, 4)), Action(pos1=(3, 4), pos2=(2, 4)), Action(pos1=(2, 4), pos2=(1, 4)), Action(pos1=(1, 4), pos2=(0, 4)), Action(pos1=(0, 4), pos2=(0, 3)), Action(pos1=(0, 3), pos2=(0, 2)), Action(pos1=(0, 2), pos2=(0, 1)), Action(pos1=(0, 1), pos2=(0, 0)), Action(pos1=(0, 0), pos2=(1, 0)), Action(pos1=(1, 0), pos2=(1, 1)), Action(pos1=(1, 1), pos2=(0, 1)), Action(pos1=(0, 1), pos2=(0, 2)), Action(pos1=(0, 2), pos2=(1, 2)), Action(pos1=(1, 2), pos2=(1, 1)), Action(pos1=(1, 1), pos2=(0, 1)), Action(pos1=(0, 1), pos2=(0, 2)), Action(pos1=(0, 2), pos2=(0, 3)), Action(pos1=(0, 3), pos2=(0, 4)), Action(pos1=(0, 4), pos2=(1, 4)), Action(pos1=(1, 4), pos2=(2, 4)), Action(pos1=(2, 4), pos2=(2, 3)), Action(pos1=(2, 3), pos2=(2, 2)), Action(pos1=(2, 2), pos2=(1, 2)), Action(pos1=(1, 2), pos2=(1, 1)), Action(pos1=(1, 1), pos2=(0, 1)), Action(pos1=(0, 1), pos2=(0, 2)), Action(pos1=(0, 2), pos2=(1, 2)), Action(pos1=(1, 2), pos2=(1, 1)), Action(pos1=(1, 1), pos2=(2, 1)), Action(pos1=(2, 1), pos2=(2, 2)), Action(pos1=(2, 2), pos2=(2, 3)), Action(pos1=(2, 3), pos2=(2, 4)), Action(pos1=(2, 4), pos2=(1, 4)), Action(pos1=(1, 4), pos2=(0, 4)), Action(pos1=(0, 4), pos2=(0, 3)), Action(pos1=(0, 3), pos2=(0, 2)), Action(pos1=(0, 2), pos2=(1, 2)), Action(pos1=(1, 2), pos2=(1, 3)), Action(pos1=(1, 3), pos2=(1, 4)), Action(pos1=(1, 4), pos2=(0, 4)), Action(pos1=(0, 4), pos2=(0, 3)), Action(pos1=(0, 3), pos2=(1, 3)), Action(pos1=(1, 3), pos2=(1, 2)), Action(pos1=(1, 2), pos2=(0, 2)), Action(pos1=(0, 2), pos2=(0, 3)), Action(pos1=(0, 3), pos2=(0, 4)), Action(pos1=(0, 4), pos2=(1, 4)), Action(pos1=(1, 4), pos2=(1, 3)), Action(pos1=(1, 3), pos2=(0, 3)), Action(pos1=(0, 3), pos2=(0, 2)), Action(pos1=(0, 2), pos2=(1, 2)), Action(pos1=(1, 2), pos2=(1, 3)), Action(pos1=(1, 3), pos2=(1, 4)), Action(pos1=(1, 4), pos2=(2, 4)), Action(pos1=(2, 4), pos2=(2, 3)), Action(pos1=(2, 3), pos2=(2, 2)), Action(pos1=(2, 2), pos2=(3, 2)), Action(pos1=(3, 2), pos2=(3, 1)), Action(pos1=(3, 1), pos2=(2, 1)), Action(pos1=(2, 1), pos2=(2, 0)), Action(pos1=(2, 0), pos2=(3, 0)), Action(pos1=(3, 0), pos2=(3, 1)), Action(pos1=(3, 1), pos2=(3, 2)), Action(pos1=(3, 2), pos2=(2, 2)), Action(pos1=(2, 2), pos2=(2, 1)), Action(pos1=(2, 1), pos2=(2, 0)), Action(pos1=(2, 0), pos2=(1, 0)), Action(pos1=(1, 0), pos2=(1, 1)), Action(pos1=(1, 1), pos2=(2, 1)), Action(pos1=(2, 1), pos2=(2, 2)), Action(pos1=(2, 2), pos2=(1, 2)), Action(pos1=(1, 2), pos2=(1, 1)), Action(pos1=(1, 1), pos2=(1, 0)), Action(pos1=(1, 0), pos2=(2, 0)), Action(pos1=(2, 0), pos2=(2, 1)), Action(pos1=(2, 1), pos2=(1, 1)), Action(pos1=(1, 1), pos2=(1, 2)), Action(pos1=(1, 2), pos2=(2, 2)), Action(pos1=(2, 2), pos2=(2, 3)), Action(pos1=(2, 3), pos2=(3, 3)), Action(pos1=(3, 3), pos2=(3, 4)), Action(pos1=(3, 4), pos2=(4, 4)), Action(pos1=(4, 4), pos2=(4, 3)), Action(pos1=(4, 3), pos2=(3, 3)), Action(pos1=(3, 3), pos2=(2, 3)), Action(pos1=(2, 3), pos2=(2, 4)), Action(pos1=(2, 4), pos2=(3, 4)), Action(pos1=(3, 4), pos2=(4, 4)), Action(pos1=(4, 4), pos2=(4, 3)), Action(pos1=(4, 3), pos2=(4, 2)), Action(pos1=(4, 2), pos2=(3, 2)), Action(pos1=(3, 2), pos2=(3, 3)), Action(pos1=(3, 3), pos2=(3, 4)), Action(pos1=(3, 4), pos2=(4, 4)), Action(pos1=(4, 4), pos2=(4, 3)), Action(pos1=(4, 3), pos2=(3, 3)), Action(pos1=(3, 3), pos2=(3, 2)), Action(pos1=(3, 2), pos2=(4, 2)), Action(pos1=(4, 2), pos2=(4, 1)), Action(pos1=(4, 1), pos2=(4, 0)), Action(pos1=(4, 0), pos2=(3, 0)), Action(pos1=(3, 0), pos2=(3, 1)), Action(pos1=(3, 1), pos2=(4, 1)), Action(pos1=(4, 1), pos2=(4, 2)), Action(pos1=(4, 2), pos2=(3, 2)), Action(pos1=(3, 2), pos2=(3, 1)), Action(pos1=(3, 1), pos2=(3, 0)), Action(pos1=(3, 0), pos2=(4, 0)), Action(pos1=(4, 0), pos2=(4, 1)), Action(pos1=(4, 1), pos2=(3, 1)), Action(pos1=(3, 1), pos2=(3, 2)), Action(pos1=(3, 2), pos2=(4, 2)), Action(pos1=(4, 2), pos2=(4, 3)), Action(pos1=(4, 3), pos2=(4, 4)), Action(pos1=(4, 4), pos2=(3, 4)), Action(pos1=(3, 4), pos2=(3, 3)), Action(pos1=(3, 3), pos2=(4, 3)), Action(pos1=(4, 3), pos2=(4, 2)), Action(pos1=(4, 2), pos2=(4, 1)), Action(pos1=(4, 1), pos2=(3, 1)), Action(pos1=(3, 1), pos2=(3, 2)), Action(pos1=(3, 2), pos2=(3, 3)), Action(pos1=(3, 3), pos2=(3, 4)), Action(pos1=(3, 4), pos2=(4, 4)), Action(pos1=(4, 4), pos2=(4, 3)), Action(pos1=(4, 3), pos2=(4, 2)), Action(pos1=(4, 2), pos2=(3, 2)), Action(pos1=(3, 2), pos2=(3, 1)), Action(pos1=(3, 1), pos2=(4, 1)), Action(pos1=(4, 1), pos2=(4, 2)), Action(pos1=(4, 2), pos2=(4, 3)), Action(pos1=(4, 3), pos2=(3, 3)), Action(pos1=(3, 3), pos2=(3, 2)), Action(pos1=(3, 2), pos2=(4, 2)), Action(pos1=(4, 2), pos2=(4, 1)), Action(pos1=(4, 1), pos2=(3, 1)), Action(pos1=(3, 1), pos2=(3, 2)), Action(pos1=(3, 2), pos2=(3, 3)), Action(pos1=(3, 3), pos2=(4, 3)), Action(pos1=(4, 3), pos2=(4, 4))]\n"
     ]
    }
   ],
   "source": [
    "import heapq\n",
    "from collections import namedtuple\n",
    "from random import choice\n",
    "from tqdm.auto import tqdm\n",
    "import numpy as np\n",
    "import time\n",
    "\n",
    "PUZZLE_DIM = 5\n",
    "action = namedtuple('Action', ['pos1', 'pos2'])\n",
    "\n",
    "def available_actions(state: np.ndarray) -> list:\n",
    "    x, y = [int(_[0]) for _ in np.where(state == 0)]\n",
    "    actions = []\n",
    "    if x > 0:\n",
    "        actions.append(action((x, y), (x - 1, y)))\n",
    "    if x < PUZZLE_DIM - 1:\n",
    "        actions.append(action((x, y), (x + 1, y)))\n",
    "    if y > 0:\n",
    "        actions.append(action((x, y), (x, y - 1)))\n",
    "    if y < PUZZLE_DIM - 1:\n",
    "        actions.append(action((x, y), (x, y + 1)))\n",
    "    return actions\n",
    "\n",
    "def do_action(state: np.ndarray, action: 'Action') -> np.ndarray:\n",
    "    new_state = state.copy()\n",
    "    new_state[action.pos1], new_state[action.pos2] = new_state[action.pos2], new_state[action.pos1]\n",
    "    return new_state \n",
    "\n",
    "RANDOMIZE_STEPS = 100_000\n",
    "goal_state = np.array([i for i in range(1, PUZZLE_DIM**2)] + [0]).reshape((PUZZLE_DIM, PUZZLE_DIM))\n",
    "state = goal_state.copy()\n",
    "\n",
    "for _ in tqdm(range(RANDOMIZE_STEPS), desc='Randomizing'):\n",
    "    state = do_action(state, choice(available_actions(state)))\n",
    "\n",
    "def hamming_distance(state: np.ndarray, goal_state: np.ndarray) -> int:\n",
    "    \"\"\"Calculates the number of misplaced tiles, excluding the empty tile.\"\"\"\n",
    "    return np.sum(state != goal_state) - 1  # Subtract 1 to ignore the empty tile\n",
    "\n",
    "def manhattan_distance(state: np.ndarray, goal_state: np.ndarray) -> int:\n",
    "    \"\"\"Calculates the sum of Manhattan distances of tiles from their goal positions.\"\"\"\n",
    "    total_distance = 0\n",
    "    for val in range(1, PUZZLE_DIM**2):\n",
    "        current_pos = np.argwhere(state == val)[0]\n",
    "        goal_pos = np.argwhere(goal_state == val)[0]\n",
    "        total_distance += abs(current_pos[0] - goal_pos[0]) + abs(current_pos[1] - goal_pos[1])\n",
    "    return total_distance\n",
    "\n",
    "def solve_n2_1_puzzle(initial_state: np.ndarray, goal_state: np.ndarray, heuristic_func, length_criteria=0) -> list:\n",
    "    \"\"\"Solves the n^2-1 puzzle using A* search with the given heuristic function.\"\"\"\n",
    "    pq = []\n",
    "    heapq.heappush(pq, (heuristic_func(initial_state, goal_state), 0, [], initial_state))\n",
    "    visited = set()\n",
    "    start_time = time.time()\n",
    "    min_distance = float('inf')\n",
    "    best_state = None\n",
    "\n",
    "    while pq:\n",
    "        _, move_count, path, current_state = heapq.heappop(pq)\n",
    "\n",
    "        if np.array_equal(current_state, goal_state):\n",
    "            return path, current_state\n",
    "\n",
    "        state_tuple = tuple(current_state.flatten())\n",
    "        if state_tuple in visited:\n",
    "            continue\n",
    "        visited.add(state_tuple)\n",
    "\n",
    "        for act in available_actions(current_state):\n",
    "            new_state = do_action(current_state, act)\n",
    "            new_path = path + [act]\n",
    "            new_priority = heuristic_func(new_state, goal_state) + length_criteria * len(new_path)\n",
    "            heapq.heappush(pq, (new_priority, len(new_path), new_path, new_state))\n",
    "\n",
    "            current_distance = heuristic_func(new_state, goal_state)\n",
    "            if current_distance < min_distance:\n",
    "                min_distance = current_distance\n",
    "                best_state = new_state\n",
    "\n",
    "        if time.time() - start_time >= 5:\n",
    "            print(f\"Current depth: {move_count}, queue size: {len(pq)}, current min distance: {min_distance}\")\n",
    "            start_time = time.time()\n",
    "\n",
    "    print(f\"Best state with min distance: {min_distance}\")\n",
    "    print(best_state)\n",
    "    return None\n",
    "\n",
    "print(\"Solving...\")\n",
    "\n",
    "# solution, final_state = solve_n2_1_puzzle(state, goal_state, manhattan_distance, length_criteria=0.05*6)\n",
    "solution, final_state = solve_n2_1_puzzle(state, goal_state, manhattan_distance, length_criteria=0.05*0)\n",
    "if solution:\n",
    "    print(f\"Solution found in {len(solution)} moves.\")\n",
    "    print(final_state)\n",
    "    print(solution)\n",
    "else:\n",
    "    print(\"No solution found.\")\n",
    "\n",
    "# Try to reduce the number of moves\n",
    "# best_score= 1000000000\n",
    "# attempts = 0\n",
    "\n",
    "# while attempts < 10:\n",
    "#     print(f\"Attempt {attempts + 1} to reduce the number of moves...\")\n",
    "#     new_solution, new_final_state = solve_n2_1_puzzle(state, goal_state, manhattan_distance, length_criteria=0.05*attempts)\n",
    "#     if new_solution:\n",
    "#         print(f\"New best solution found with {len(new_solution)} moves.\")\n",
    "#     attempts += 1\n",
    "\n",
    "# print(f\"Best solution found in {len(new_solution)} moves.\")\n",
    "# print(new_final_state)"
   ]
  },
  {
   "cell_type": "code",
   "execution_count": null,
   "metadata": {},
   "outputs": [
    {
     "data": {
      "application/vnd.jupyter.widget-view+json": {
       "model_id": "7ef479ae718a4138bc0c9ea4accf87e1",
       "version_major": 2,
       "version_minor": 0
      },
      "text/plain": [
       "Randomizing:   0%|          | 0/100000 [00:00<?, ?it/s]"
      ]
     },
     "metadata": {},
     "output_type": "display_data"
    },
    {
     "data": {
      "text/plain": [
       "array([[ 8, 23, 21, 17, 14],\n",
       "       [11,  0, 18,  1,  4],\n",
       "       [19,  6,  9, 10, 15],\n",
       "       [12,  7, 22,  3, 16],\n",
       "       [24,  5, 13, 20,  2]])"
      ]
     },
     "execution_count": 21,
     "metadata": {},
     "output_type": "execute_result"
    }
   ],
   "source": []
  },
  {
   "cell_type": "code",
   "execution_count": null,
   "metadata": {},
   "outputs": [],
   "source": []
  }
 ],
 "metadata": {
  "kernelspec": {
   "display_name": "Python 3",
   "language": "python",
   "name": "python3"
  },
  "language_info": {
   "codemirror_mode": {
    "name": "ipython",
    "version": 3
   },
   "file_extension": ".py",
   "mimetype": "text/x-python",
   "name": "python",
   "nbconvert_exporter": "python",
   "pygments_lexer": "ipython3",
   "version": "3.10.5"
  }
 },
 "nbformat": 4,
 "nbformat_minor": 2
}
